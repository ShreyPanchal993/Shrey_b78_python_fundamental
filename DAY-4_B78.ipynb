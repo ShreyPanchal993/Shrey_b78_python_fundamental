{
 "cells": [
  {
   "cell_type": "code",
   "execution_count": 2,
   "id": "165c067b",
   "metadata": {},
   "outputs": [
    {
     "name": "stdout",
     "output_type": "stream",
     "text": [
      "['shrey', 'jaineel', 'jimmy', 'dhruv', 'akash', 'adbeali']\n"
     ]
    }
   ],
   "source": [
    "students=['shrey','jaineel','jimmy','dhruv','akash','adbeali']\n",
    "\n",
    "print(students)"
   ]
  },
  {
   "cell_type": "code",
   "execution_count": 3,
   "id": "9ddc5a7b",
   "metadata": {},
   "outputs": [
    {
     "data": {
      "text/plain": [
       "list"
      ]
     },
     "execution_count": 3,
     "metadata": {},
     "output_type": "execute_result"
    }
   ],
   "source": [
    "type(students)"
   ]
  },
  {
   "cell_type": "code",
   "execution_count": 4,
   "id": "9ee82eb2",
   "metadata": {},
   "outputs": [
    {
     "name": "stdout",
     "output_type": "stream",
     "text": [
      "jaineel\n"
     ]
    }
   ],
   "source": [
    "print(students[1])"
   ]
  },
  {
   "cell_type": "code",
   "execution_count": 5,
   "id": "371ea876",
   "metadata": {},
   "outputs": [
    {
     "name": "stdout",
     "output_type": "stream",
     "text": [
      "Jaineel\n"
     ]
    }
   ],
   "source": [
    "print(students[1].title())"
   ]
  },
  {
   "cell_type": "code",
   "execution_count": 6,
   "id": "d31ed8f6",
   "metadata": {},
   "outputs": [
    {
     "name": "stdout",
     "output_type": "stream",
     "text": [
      "['shrey', 'jaineel', 'jimmy', 'dhruv', 'akash', 'adbeali', 'dev']\n"
     ]
    }
   ],
   "source": [
    "students.append('dev')\n",
    "\n",
    "print(students)"
   ]
  },
  {
   "cell_type": "code",
   "execution_count": 10,
   "id": "c47292d9",
   "metadata": {},
   "outputs": [
    {
     "name": "stdout",
     "output_type": "stream",
     "text": [
      "['shrey', 'jaineel', 'ayesha', 'jimmy', 'dhruv', 'akash', 'adbeali', 'dev']\n"
     ]
    }
   ],
   "source": [
    "students.insert(2,'ayesha')\n",
    "\n",
    "print(students)"
   ]
  },
  {
   "cell_type": "code",
   "execution_count": 19,
   "id": "2f4bffa2",
   "metadata": {},
   "outputs": [
    {
     "name": "stdout",
     "output_type": "stream",
     "text": [
      "['rahul', 'jaineel', 'ayesha', 'jimmy', 'dhruv', 'akash', 'adbeali']\n"
     ]
    }
   ],
   "source": [
    "students[0]='rahul'\n",
    "\n",
    "print(students)"
   ]
  },
  {
   "cell_type": "code",
   "execution_count": 17,
   "id": "c28c755d",
   "metadata": {},
   "outputs": [
    {
     "name": "stdout",
     "output_type": "stream",
     "text": [
      "['jimmy', 'jaineel', 'ayesha', 'jimmy', 'dhruv', 'akash', 'adbeali']\n"
     ]
    }
   ],
   "source": [
    "x=students.pop()\n",
    "\n",
    "print(students)"
   ]
  },
  {
   "cell_type": "code",
   "execution_count": 18,
   "id": "1f850bb8",
   "metadata": {},
   "outputs": [
    {
     "name": "stdout",
     "output_type": "stream",
     "text": [
      "dev\n"
     ]
    }
   ],
   "source": [
    "print(x)"
   ]
  },
  {
   "cell_type": "code",
   "execution_count": 20,
   "id": "4ff3767f",
   "metadata": {},
   "outputs": [
    {
     "name": "stdout",
     "output_type": "stream",
     "text": [
      "['rahul', 'jaineel', 'ayesha', 'jimmy', 'akash', 'adbeali']\n"
     ]
    }
   ],
   "source": [
    "y=students.pop(4)\n",
    "\n",
    "print(students)"
   ]
  },
  {
   "cell_type": "code",
   "execution_count": 21,
   "id": "0b8d910a",
   "metadata": {},
   "outputs": [
    {
     "name": "stdout",
     "output_type": "stream",
     "text": [
      "dhruv\n"
     ]
    }
   ],
   "source": [
    "print(y)"
   ]
  },
  {
   "cell_type": "code",
   "execution_count": 24,
   "id": "803cf8a3",
   "metadata": {},
   "outputs": [],
   "source": [
    "del students[0]"
   ]
  },
  {
   "cell_type": "code",
   "execution_count": 25,
   "id": "5c14b3d3",
   "metadata": {},
   "outputs": [
    {
     "name": "stdout",
     "output_type": "stream",
     "text": [
      "['ayesha', 'jimmy', 'akash', 'adbeali']\n"
     ]
    }
   ],
   "source": [
    "print(students)"
   ]
  },
  {
   "cell_type": "code",
   "execution_count": null,
   "id": "73789a40",
   "metadata": {},
   "outputs": [],
   "source": []
  }
 ],
 "metadata": {
  "kernelspec": {
   "display_name": "Python 3 (ipykernel)",
   "language": "python",
   "name": "python3"
  },
  "language_info": {
   "codemirror_mode": {
    "name": "ipython",
    "version": 3
   },
   "file_extension": ".py",
   "mimetype": "text/x-python",
   "name": "python",
   "nbconvert_exporter": "python",
   "pygments_lexer": "ipython3",
   "version": "3.10.9"
  }
 },
 "nbformat": 4,
 "nbformat_minor": 5
}
