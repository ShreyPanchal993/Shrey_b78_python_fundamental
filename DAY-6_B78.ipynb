{
 "cells": [
  {
   "cell_type": "code",
   "execution_count": 1,
   "id": "82fbbbec",
   "metadata": {},
   "outputs": [
    {
     "name": "stdout",
     "output_type": "stream",
     "text": [
      "['ananya', 'nasrin', 'visesha', 'zeeshan', 'kumar', 'arvind']\n"
     ]
    }
   ],
   "source": [
    "students=['ananya','nasrin','visesha','zeeshan','kumar','arvind']\n",
    "\n",
    "print(students)"
   ]
  },
  {
   "cell_type": "code",
   "execution_count": 2,
   "id": "ab020926",
   "metadata": {},
   "outputs": [
    {
     "data": {
      "text/plain": [
       "list"
      ]
     },
     "execution_count": 2,
     "metadata": {},
     "output_type": "execute_result"
    }
   ],
   "source": [
    "type(students)"
   ]
  },
  {
   "cell_type": "code",
   "execution_count": 3,
   "id": "c259ad6a",
   "metadata": {},
   "outputs": [
    {
     "name": "stdout",
     "output_type": "stream",
     "text": [
      "keep up the good work,{student[0].title()}\n"
     ]
    }
   ],
   "source": [
    "print(\"keep up the good work,{student[0].title()}\")"
   ]
  },
  {
   "cell_type": "code",
   "execution_count": 4,
   "id": "9d0c201d",
   "metadata": {},
   "outputs": [
    {
     "name": "stdout",
     "output_type": "stream",
     "text": [
      "keep up the good work,{student[1].title()}\n"
     ]
    }
   ],
   "source": [
    "print(\"keep up the good work,{student[1].title()}\")"
   ]
  },
  {
   "cell_type": "code",
   "execution_count": 6,
   "id": "81f12b69",
   "metadata": {},
   "outputs": [
    {
     "name": "stdout",
     "output_type": "stream",
     "text": [
      "keep up the good work,Ananya\n",
      "keep up the good work,Nasrin\n",
      "keep up the good work,Visesha\n",
      "keep up the good work,Zeeshan\n",
      "keep up the good work,Kumar\n",
      "keep up the good work,Arvind\n"
     ]
    }
   ],
   "source": [
    "for x in students:\n",
    "\n",
    "    print(f\"keep up the good work,{x.title()}\")"
   ]
  },
  {
   "cell_type": "code",
   "execution_count": 7,
   "id": "c943f012",
   "metadata": {},
   "outputs": [
    {
     "name": "stdout",
     "output_type": "stream",
     "text": [
      "keep up the good work,Ananya\n",
      "keep up the good work,Nasrin\n",
      "keep up the good work,Visesha\n",
      "keep up the good work,Zeeshan\n",
      "keep up the good work,Kumar\n",
      "keep up the good work,Arvind\n"
     ]
    }
   ],
   "source": [
    "for a in students:\n",
    "\n",
    "    print(f\"keep up the good work,{a.title()}\")"
   ]
  },
  {
   "cell_type": "code",
   "execution_count": 8,
   "id": "b10178c3",
   "metadata": {},
   "outputs": [
    {
     "name": "stdout",
     "output_type": "stream",
     "text": [
      "Keep up the good work,Ananya\n",
      "do submi your github url to my inbox,Ananya\n",
      "Keep up the good work,Nasrin\n",
      "do submi your github url to my inbox,Nasrin\n",
      "Keep up the good work,Visesha\n",
      "do submi your github url to my inbox,Visesha\n",
      "Keep up the good work,Zeeshan\n",
      "do submi your github url to my inbox,Zeeshan\n",
      "Keep up the good work,Kumar\n",
      "do submi your github url to my inbox,Kumar\n",
      "Keep up the good work,Arvind\n",
      "do submi your github url to my inbox,Arvind\n"
     ]
    }
   ],
   "source": [
    "for a in students:\n",
    "    print(f\"Keep up the good work,{a.title()}\")\n",
    "    print(f\"do submi your github url to my inbox,{a.title()}\")"
   ]
  },
  {
   "cell_type": "code",
   "execution_count": 9,
   "id": "f35b72f6",
   "metadata": {},
   "outputs": [
    {
     "name": "stdout",
     "output_type": "stream",
     "text": [
      "Keep up the good work,Ananya\n",
      "do submi your github url to my inbox,Ananya\n",
      "\n",
      "Keep up the good work,Nasrin\n",
      "do submi your github url to my inbox,Nasrin\n",
      "\n",
      "Keep up the good work,Visesha\n",
      "do submi your github url to my inbox,Visesha\n",
      "\n",
      "Keep up the good work,Zeeshan\n",
      "do submi your github url to my inbox,Zeeshan\n",
      "\n",
      "Keep up the good work,Kumar\n",
      "do submi your github url to my inbox,Kumar\n",
      "\n",
      "Keep up the good work,Arvind\n",
      "do submi your github url to my inbox,Arvind\n",
      "\n"
     ]
    }
   ],
   "source": [
    "for a in students:\n",
    "    print(f\"Keep up the good work,{a.title()}\")\n",
    "    print(f\"do submi your github url to my inbox,{a.title()}\\n\")"
   ]
  },
  {
   "cell_type": "code",
   "execution_count": 10,
   "id": "ff28b6e6",
   "metadata": {},
   "outputs": [
    {
     "ename": "IndentationError",
     "evalue": "expected an indented block after 'for' statement on line 1 (1234254885.py, line 2)",
     "output_type": "error",
     "traceback": [
      "\u001b[1;36m  Cell \u001b[1;32mIn[10], line 2\u001b[1;36m\u001b[0m\n\u001b[1;33m    print(f\"Keep up the good work,{a.title()}\")\u001b[0m\n\u001b[1;37m    ^\u001b[0m\n\u001b[1;31mIndentationError\u001b[0m\u001b[1;31m:\u001b[0m expected an indented block after 'for' statement on line 1\n"
     ]
    }
   ],
   "source": [
    "for a in students:\n",
    "print(f\"Keep up the good work,{a.title()}\")\n",
    "print(f\"do submi your github url to my inbox,{a.title()}\")"
   ]
  },
  {
   "cell_type": "code",
   "execution_count": 11,
   "id": "fd4511be",
   "metadata": {},
   "outputs": [
    {
     "data": {
      "text/plain": [
       "tuple"
      ]
     },
     "execution_count": 11,
     "metadata": {},
     "output_type": "execute_result"
    }
   ],
   "source": [
    "students=('ananya','nasrin','visesha','zeeshan','kumar','arvind')\n",
    "\n",
    "type(students)"
   ]
  },
  {
   "cell_type": "code",
   "execution_count": 12,
   "id": "2ff20b3b",
   "metadata": {},
   "outputs": [
    {
     "ename": "TypeError",
     "evalue": "'tuple' object does not support item assignment",
     "output_type": "error",
     "traceback": [
      "\u001b[1;31m---------------------------------------------------------------------------\u001b[0m",
      "\u001b[1;31mTypeError\u001b[0m                                 Traceback (most recent call last)",
      "Cell \u001b[1;32mIn[12], line 1\u001b[0m\n\u001b[1;32m----> 1\u001b[0m students[\u001b[38;5;241m0\u001b[39m]\u001b[38;5;241m=\u001b[39m\u001b[38;5;124m\"\u001b[39m\u001b[38;5;124msonali\u001b[39m\u001b[38;5;124m\"\u001b[39m\n",
      "\u001b[1;31mTypeError\u001b[0m: 'tuple' object does not support item assignment"
     ]
    }
   ],
   "source": [
    "students[0]=\"sonali\""
   ]
  },
  {
   "cell_type": "code",
   "execution_count": 13,
   "id": "e4fd5aca",
   "metadata": {},
   "outputs": [
    {
     "name": "stdout",
     "output_type": "stream",
     "text": [
      "Nasrin\n"
     ]
    }
   ],
   "source": [
    "print(students[1].title())"
   ]
  },
  {
   "cell_type": "code",
   "execution_count": 14,
   "id": "abd49ebf",
   "metadata": {},
   "outputs": [
    {
     "name": "stdout",
     "output_type": "stream",
     "text": [
      "ananya\n",
      "nasrin\n",
      "visesha\n",
      "zeeshan\n",
      "kumar\n",
      "arvind\n"
     ]
    }
   ],
   "source": [
    "for a in students:\n",
    "    \n",
    "    print(a)"
   ]
  },
  {
   "cell_type": "code",
   "execution_count": 15,
   "id": "e0e93ced",
   "metadata": {},
   "outputs": [
    {
     "name": "stdout",
     "output_type": "stream",
     "text": [
      "(200, 50)\n"
     ]
    }
   ],
   "source": [
    "dimensions= (200,50)\n",
    "\n",
    "print(dimensions)"
   ]
  },
  {
   "cell_type": "code",
   "execution_count": 16,
   "id": "f99ef7fc",
   "metadata": {},
   "outputs": [
    {
     "data": {
      "text/plain": [
       "tuple"
      ]
     },
     "execution_count": 16,
     "metadata": {},
     "output_type": "execute_result"
    }
   ],
   "source": [
    "type(dimensions)"
   ]
  },
  {
   "cell_type": "code",
   "execution_count": null,
   "id": "6b2dd809",
   "metadata": {},
   "outputs": [],
   "source": []
  }
 ],
 "metadata": {
  "kernelspec": {
   "display_name": "Python 3 (ipykernel)",
   "language": "python",
   "name": "python3"
  },
  "language_info": {
   "codemirror_mode": {
    "name": "ipython",
    "version": 3
   },
   "file_extension": ".py",
   "mimetype": "text/x-python",
   "name": "python",
   "nbconvert_exporter": "python",
   "pygments_lexer": "ipython3",
   "version": "3.10.9"
  }
 },
 "nbformat": 4,
 "nbformat_minor": 5
}
