{
 "cells": [
  {
   "cell_type": "code",
   "execution_count": 1,
   "id": "94efc47b",
   "metadata": {},
   "outputs": [
    {
     "name": "stdout",
     "output_type": "stream",
     "text": [
      "{'color': 'green', 'points': 5}\n"
     ]
    }
   ],
   "source": [
    "alien={'color':'green','points':5}\n",
    "\n",
    "print(alien)"
   ]
  },
  {
   "cell_type": "code",
   "execution_count": 2,
   "id": "00213e94",
   "metadata": {},
   "outputs": [
    {
     "data": {
      "text/plain": [
       "dict"
      ]
     },
     "execution_count": 2,
     "metadata": {},
     "output_type": "execute_result"
    }
   ],
   "source": [
    "type(alien)"
   ]
  },
  {
   "cell_type": "code",
   "execution_count": 3,
   "id": "74bd585f",
   "metadata": {},
   "outputs": [
    {
     "name": "stdout",
     "output_type": "stream",
     "text": [
      "{'color': 'green', 'points': 5, 'start_position': 1}\n"
     ]
    }
   ],
   "source": [
    "alien['start_position']=1\n",
    "\n",
    "print(alien)"
   ]
  },
  {
   "cell_type": "code",
   "execution_count": 4,
   "id": "6a671e85",
   "metadata": {},
   "outputs": [
    {
     "name": "stdout",
     "output_type": "stream",
     "text": [
      "{'color': 'yellow', 'points': 5, 'start_position': 1}\n"
     ]
    }
   ],
   "source": [
    "alien['color']='yellow'\n",
    "\n",
    "print(alien)"
   ]
  },
  {
   "cell_type": "code",
   "execution_count": 5,
   "id": "c8e4c516",
   "metadata": {},
   "outputs": [
    {
     "name": "stdout",
     "output_type": "stream",
     "text": [
      "5\n"
     ]
    }
   ],
   "source": [
    "print(alien['points'])"
   ]
  },
  {
   "cell_type": "code",
   "execution_count": 6,
   "id": "5b146e00",
   "metadata": {},
   "outputs": [
    {
     "ename": "KeyError",
     "evalue": "1",
     "output_type": "error",
     "traceback": [
      "\u001b[1;31m---------------------------------------------------------------------------\u001b[0m",
      "\u001b[1;31mKeyError\u001b[0m                                  Traceback (most recent call last)",
      "Cell \u001b[1;32mIn[6], line 1\u001b[0m\n\u001b[1;32m----> 1\u001b[0m \u001b[38;5;28mprint\u001b[39m(\u001b[43malien\u001b[49m\u001b[43m[\u001b[49m\u001b[38;5;241;43m1\u001b[39;49m\u001b[43m]\u001b[49m)\n",
      "\u001b[1;31mKeyError\u001b[0m: 1"
     ]
    }
   ],
   "source": [
    "print(alien[1])"
   ]
  },
  {
   "cell_type": "code",
   "execution_count": 12,
   "id": "b121071f",
   "metadata": {},
   "outputs": [
    {
     "name": "stdout",
     "output_type": "stream",
     "text": [
      "{'DOB:01-01-2001', 'pwd:54541', 'code', 'username:Shrey', 'last_name:Panchal'}\n"
     ]
    }
   ],
   "source": [
    "user_account={\"username:\"'Shrey','code','last_name:''Panchal','DOB:''01-01-2001','pwd:''54541'}\n",
    "\n",
    "print(user_account)"
   ]
  }
 ],
 "metadata": {
  "kernelspec": {
   "display_name": "Python 3 (ipykernel)",
   "language": "python",
   "name": "python3"
  },
  "language_info": {
   "codemirror_mode": {
    "name": "ipython",
    "version": 3
   },
   "file_extension": ".py",
   "mimetype": "text/x-python",
   "name": "python",
   "nbconvert_exporter": "python",
   "pygments_lexer": "ipython3",
   "version": "3.10.9"
  }
 },
 "nbformat": 4,
 "nbformat_minor": 5
}
